{
 "cells": [
  {
   "cell_type": "code",
   "execution_count": 1,
   "id": "0761d5dc-ef86-400d-8baf-80f623afc893",
   "metadata": {},
   "outputs": [],
   "source": [
    "import torch\n",
    "import torch.cuda\n",
    "import numpy as np\n",
    "from numba import cuda"
   ]
  },
  {
   "cell_type": "code",
   "execution_count": 2,
   "id": "b4a48dbe-3d2b-4695-b41b-61c39ddeee04",
   "metadata": {},
   "outputs": [],
   "source": [
    "@cuda.jit\n",
    "def dot_product(v1, v2, product):\n",
    "    pos = cuda.grid(1)\n",
    "    if pos < len(product):\n",
    "        product[pos] = v1[pos] * v2[pos]"
   ]
  },
  {
   "cell_type": "code",
   "execution_count": 8,
   "id": "d8d6e4c3-6352-48d2-992c-3ba0586c6ee5",
   "metadata": {},
   "outputs": [
    {
     "name": "stdout",
     "output_type": "stream",
     "text": [
      "285958.0\n"
     ]
    }
   ],
   "source": [
    "sms = 24\n",
    "threads = 256\n",
    "blocks = sms * 24\n",
    "\n",
    "n = 500\n",
    "\n",
    "product_vec_global_mem = cuda.device_array(n)\n",
    "v1 = np.random.randint(50, size=n)\n",
    "v2 = np.random.randint(50, size=n)\n",
    "v1_global_mem = cuda.to_device(v1)\n",
    "v2_global_mem = cuda.to_device(v2)\n",
    "\n",
    "with torch.cuda.device(0):\n",
    "    dot_product[blocks, threads](v1_global_mem, v2_global_mem, product_vec_global_mem)\n",
    "\n",
    "product_vec = product_vec_global_mem.copy_to_host()\n",
    "product = sum(product_vec)\n",
    "\n",
    "print(product)"
   ]
  }
 ],
 "metadata": {
  "kernelspec": {
   "display_name": "Python 3 (ipykernel)",
   "language": "python",
   "name": "python3"
  },
  "language_info": {
   "codemirror_mode": {
    "name": "ipython",
    "version": 3
   },
   "file_extension": ".py",
   "mimetype": "text/x-python",
   "name": "python",
   "nbconvert_exporter": "python",
   "pygments_lexer": "ipython3",
   "version": "3.12.5"
  }
 },
 "nbformat": 4,
 "nbformat_minor": 5
}
